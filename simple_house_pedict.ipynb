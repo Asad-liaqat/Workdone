{
 "cells": [
  {
   "cell_type": "code",
   "execution_count": 6,
   "id": "fa98d8e7-6e84-45ef-85c8-993b4a213be8",
   "metadata": {},
   "outputs": [
    {
     "name": "stdout",
     "output_type": "stream",
     "text": [
      "Mean Squared Error: 3280176595474.0127\n",
      "Predicted Price for New House: 3196193.28596423\n"
     ]
    }
   ],
   "source": [
    "import numpy as np\n",
    "from sklearn.linear_model import LinearRegression\n",
    "from sklearn.model_selection import train_test_split\n",
    "from sklearn.metrics import mean_squared_error\n",
    "import pandas as pd\n",
    "\n",
    "# Load data from CSV file\n",
    "data = pd.read_csv('house_data.csv')\n",
    "\n",
    "# Extract features (X) and target (y) from the data\n",
    "X = data[['area', 'bedrooms']].values\n",
    "y = data['price'].values\n",
    "\n",
    "# Split the data into training and testing sets\n",
    "X_train, X_test, y_train, y_test = train_test_split(X, y, test_size=0.2, random_state=42)\n",
    "\n",
    "# Create and train the model\n",
    "model = LinearRegression()\n",
    "model.fit(X_train, y_train)\n",
    "\n",
    "# Make predictions on the testing set\n",
    "predictions = model.predict(X_test)\n",
    "\n",
    "# Evaluate the model\n",
    "mse = mean_squared_error(y_test, predictions)\n",
    "print(\"Mean Squared Error:\", mse)\n",
    "\n",
    "# Example prediction for a new house\n",
    "new_house = np.array([[1200, 3]])  # New house with 1600 sq. ft and 3 bedrooms\n",
    "predicted_price = model.predict(new_house)\n",
    "print(\"Predicted Price for New House:\", predicted_price[0])\n"
   ]
  },
  {
   "cell_type": "code",
   "execution_count": 1,
   "id": "61b1c3cd-6032-49d1-bfd7-ad07542383c4",
   "metadata": {},
   "outputs": [
    {
     "name": "stdout",
     "output_type": "stream",
     "text": [
      "2.1.4\n"
     ]
    }
   ],
   "source": [
    "import pandas as pd\n",
    "print(pd.__version__)"
   ]
  },
  {
   "cell_type": "code",
   "execution_count": null,
   "id": "f8617429-4648-4f48-9afc-0e345103c1f9",
   "metadata": {},
   "outputs": [],
   "source": []
  }
 ],
 "metadata": {
  "kernelspec": {
   "display_name": "Python 3 (ipykernel)",
   "language": "python",
   "name": "python3"
  },
  "language_info": {
   "codemirror_mode": {
    "name": "ipython",
    "version": 3
   },
   "file_extension": ".py",
   "mimetype": "text/x-python",
   "name": "python",
   "nbconvert_exporter": "python",
   "pygments_lexer": "ipython3",
   "version": "3.11.7"
  }
 },
 "nbformat": 4,
 "nbformat_minor": 5
}
