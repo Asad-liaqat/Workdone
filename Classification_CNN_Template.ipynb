{
 "cells": [
  {
   "cell_type": "code",
   "execution_count": 1,
   "metadata": {
    "id": "Q_Ctl5jLS8-p"
   },
   "outputs": [],
   "source": [
    "import os\n",
    "import tensorflow as tf\n",
    "import numpy as np"
   ]
  },
  {
   "cell_type": "code",
   "execution_count": 2,
   "metadata": {
    "colab": {
     "base_uri": "https://localhost:8080/"
    },
    "id": "9jf5iNc_Uu1j",
    "outputId": "2afece1f-45cd-4a87-afbd-41b2b994af68"
   },
   "outputs": [
    {
     "name": "stdout",
     "output_type": "stream",
     "text": [
      "Requirement already satisfied: split-folders in c:\\users\\asad\\appdata\\local\\anaconda3\\envs\\practice_notebook\\lib\\site-packages (0.5.1)\n"
     ]
    }
   ],
   "source": [
    "# !pip install split-folders"
   ]
  },
  {
   "cell_type": "code",
   "execution_count": 4,
   "metadata": {
    "colab": {
     "base_uri": "https://localhost:8080/"
    },
    "id": "H4SN5q9gVVD5",
    "outputId": "8382d251-6e36-4014-c868-842e8745e9a4"
   },
   "outputs": [
    {
     "name": "stderr",
     "output_type": "stream",
     "text": [
      "Copying files: 1000 files [00:04, 219.98 files/s]\n"
     ]
    }
   ],
   "source": [
    "import splitfolders\n",
    "splitfolders.ratio('CatsAndDogs', output=\"CatsAndDogsTTS\", seed=1337, ratio=(.7, 0.2,0.1))"
   ]
  },
  {
   "cell_type": "code",
   "execution_count": 2,
   "metadata": {
    "id": "w5rdjfKLTg9X"
   },
   "outputs": [],
   "source": [
    "dataset_path = \"C:/Users/asad/practice/CatsAndDogsTTS\"\n",
    "TRAINING_DATA_DIR=\"C:/Users/asad/practice/CatsAndDogsTTS/train\"\n",
    "VALID_DATA_DIR=\"C:/Users/asad/practice/CatsAndDogsTTS/val\"\n",
    "Test_Data_DIR=\"C:/Users/asad/practice/CatsAndDogsTTS/test\""
   ]
  },
  {
   "cell_type": "code",
   "execution_count": 3,
   "metadata": {
    "id": "fDYxXXLQUQS7"
   },
   "outputs": [],
   "source": [
    "IMAGE_SHAPE = (256,256) # (height, width) in no. of pixels"
   ]
  },
  {
   "cell_type": "code",
   "execution_count": 20,
   "metadata": {
    "colab": {
     "base_uri": "https://localhost:8080/"
    },
    "id": "MAITR8p63o7Y",
    "outputId": "062ee87e-4ab3-4da2-bfb9-39fa30a693f4"
   },
   "outputs": [
    {
     "name": "stdout",
     "output_type": "stream",
     "text": [
      "Found 700 images belonging to 2 classes.\n"
     ]
    }
   ],
   "source": [
    "train_datagen = tf.keras.preprocessing.image.ImageDataGenerator(rescale=1./255,\n",
    "                                                                featurewise_center=False, #set input mean to 0\n",
    "                                                                samplewise_center=False,  #set each sample mean to 0\n",
    "                                                                featurewise_std_normalization=False, #divide input datas to std\n",
    "                                                                samplewise_std_normalization=False,  #divide each datas to own std\n",
    "                                                                zca_whitening=False,  #dimension reduction\n",
    "                                                                rotation_range=0.5,    #rotate 5 degree\n",
    "                                                                zoom_range=0.5,        #zoom in-out 5%\n",
    "                                                                width_shift_range=0.5, #shift 5%\n",
    "                                                                height_shift_range=0.5,\n",
    "                                                                horizontal_flip=True,  #randomly flip images\n",
    "                                                                vertical_flip=False,)\n",
    "train_generator = train_datagen.flow_from_directory(\n",
    "TRAINING_DATA_DIR,\n",
    "class_mode='binary',\n",
    "shuffle=True,\n",
    "target_size=IMAGE_SHAPE)"
   ]
  },
  {
   "cell_type": "code",
   "execution_count": 21,
   "metadata": {
    "colab": {
     "base_uri": "https://localhost:8080/"
    },
    "id": "PMW77rCpiO1J",
    "outputId": "4d6648d1-7bfd-4fa8-8109-e758129353f3"
   },
   "outputs": [
    {
     "name": "stdout",
     "output_type": "stream",
     "text": [
      "Found 200 images belonging to 2 classes.\n"
     ]
    }
   ],
   "source": [
    "valid_datagen = tf.keras.preprocessing.image.ImageDataGenerator(rescale=1./255,\n",
    "                                                                featurewise_center=False, #set input mean to 0\n",
    "                                                                samplewise_center=False,  #set each sample mean to 0\n",
    "                                                                featurewise_std_normalization=False, #divide input datas to std\n",
    "                                                                samplewise_std_normalization=False,  #divide each datas to own std\n",
    "                                                                zca_whitening=False,  #dimension reduction\n",
    "                                                                rotation_range=0.5,    #rotate 5 degree\n",
    "                                                                zoom_range=0.5,        #zoom in-out 5%\n",
    "                                                                width_shift_range=0.5, #shift 5%\n",
    "                                                                height_shift_range=0.5,\n",
    "                                                                horizontal_flip=True,  #randomly flip images\n",
    "                                                                vertical_flip=False)\n",
    "valid_generator = valid_datagen.flow_from_directory(\n",
    "VALID_DATA_DIR,\n",
    "class_mode='binary',\n",
    "shuffle=True,\n",
    "target_size=IMAGE_SHAPE\n",
    ")"
   ]
  },
  {
   "cell_type": "code",
   "execution_count": 22,
   "metadata": {},
   "outputs": [
    {
     "name": "stdout",
     "output_type": "stream",
     "text": [
      "Found 101 images belonging to 2 classes.\n"
     ]
    }
   ],
   "source": [
    "test_datagen = tf.keras.preprocessing.image.ImageDataGenerator(rescale=1./255,\n",
    "                                                                featurewise_center=False, #set input mean to 0\n",
    "                                                                samplewise_center=False,  #set each sample mean to 0\n",
    "                                                                featurewise_std_normalization=False, #divide input datas to std\n",
    "                                                                samplewise_std_normalization=False,  #divide each datas to own std\n",
    "                                                                zca_whitening=False,  #dimension reduction\n",
    "                                                                rotation_range=0.5,    #rotate 5 degree\n",
    "                                                                zoom_range=0.5,        #zoom in-out 5%\n",
    "                                                                width_shift_range=0.5, #shift 5%\n",
    "                                                                height_shift_range=0.5,\n",
    "                                                                horizontal_flip=True,  #randomly flip images\n",
    "                                                                vertical_flip=False)\n",
    "test_generator = test_datagen.flow_from_directory(\n",
    "Test_Data_DIR,\n",
    "class_mode='binary',\n",
    "shuffle=True,\n",
    "target_size=IMAGE_SHAPE\n",
    ")"
   ]
  },
  {
   "cell_type": "code",
   "execution_count": 23,
   "metadata": {
    "colab": {
     "base_uri": "https://localhost:8080/"
    },
    "id": "5fKrauYb6O2d",
    "outputId": "f60fa216-0ee5-4515-f0b4-5abf85622c9e"
   },
   "outputs": [
    {
     "name": "stdout",
     "output_type": "stream",
     "text": [
      "{'Cat': 0, 'Dog': 1}\n"
     ]
    }
   ],
   "source": [
    "print(train_generator.class_indices)"
   ]
  },
  {
   "cell_type": "code",
   "execution_count": 29,
   "metadata": {
    "id": "M_kuWNnK6eS-"
   },
   "outputs": [],
   "source": [
    "model = tf.keras.models.Sequential([\n",
    "    #1st convo block\n",
    "    tf.keras.layers.Conv2D(64, (3,3),activation='relu',kernel_initializer='he_uniform', padding='same', input_shape=(256,256,3)),\n",
    "    tf.keras.layers.Conv2D(64, (3,3),activation='relu', padding='same',kernel_initializer='he_uniform'),\n",
    "    tf.keras.layers.MaxPool2D(pool_size = (2,2)),\n",
    "    tf.keras.layers.Dropout(0.2),\n",
    "#2nd convo bock\n",
    "    tf.keras.layers.Conv2D(128, (3,3),activation='relu', padding='same',kernel_initializer='he_uniform'),\n",
    "    tf.keras.layers.Conv2D(128, (3,3),activation='relu', padding='same',kernel_initializer='he_uniform'),\n",
    "    tf.keras.layers.MaxPool2D(pool_size = (2,2)),\n",
    "   # tf.keras.layers.Dropout(0.2),\n",
    "    #3rd convo block\n",
    "    tf.keras.layers.Conv2D(256, (3,3),activation='relu', padding='same',kernel_initializer='he_uniform'),\n",
    "    tf.keras.layers.Conv2D(256, (3,3),activation='relu', padding='same',kernel_initializer='he_uniform'),\n",
    "    tf.keras.layers.Conv2D(256, (3,3),activation='relu', padding='same',kernel_initializer='he_uniform'),\n",
    "    tf.keras.layers.MaxPool2D(pool_size = (2,2)),\n",
    "    tf.keras.layers.Dropout(0.2),\n",
    "#4th conco block\n",
    "    tf.keras.layers.Conv2D(512, (3,3),activation='relu', padding='same',kernel_initializer='he_uniform'),\n",
    "    tf.keras.layers.Conv2D(512, (3,3),activation='relu', padding='same',kernel_initializer='he_uniform'),\n",
    "    tf.keras.layers.Conv2D(512, (3,3),activation='relu', padding='same',kernel_initializer='he_uniform'),\n",
    "    tf.keras.layers.MaxPool2D(pool_size =(2,2)),\n",
    "    tf.keras.layers.Dropout(0.2),\n",
    "    #5th convo block\n",
    "    \n",
    "    tf.keras.layers.Conv2D(512, (3,3),activation='relu', padding='same',kernel_initializer='he_uniform'),\n",
    "    tf.keras.layers.Conv2D(512, (3,3),activation='relu', padding='same',kernel_initializer='he_uniform'),\n",
    "    tf.keras.layers.Conv2D(512, (3,3),activation='relu', padding='same',kernel_initializer='he_uniform'),\n",
    "    tf.keras.layers.MaxPool2D(pool_size =(2,2)),\n",
    "    \n",
    "\n",
    "    tf.keras.layers.Flatten(),\n",
    "\n",
    "    tf.keras.layers.Dense(4096,activation='relu'),\n",
    "    tf.keras.layers.Dropout(0.6),\n",
    "    tf.keras.layers.Dense(4096,activation='relu'),\n",
    "    tf.keras.layers.Dropout(0.2),\n",
    "\n",
    "    # tf.keras.layers.Dense(64),\n",
    "    #tf.keras.layers.Dropout(0.2),\n",
    "    #For Binary Classes (i.e. Cats&Dogs)\n",
    "    tf.keras.layers.Dense(1, activation='sigmoid')\n",
    "    #For Multi-Class (i.e. Cats&Dogs&Birds....)\n",
    "    # tf.keras.layers.Dense(3, activation='softmax')\n",
    "])"
   ]
  },
  {
   "cell_type": "code",
   "execution_count": 30,
   "metadata": {
    "colab": {
     "base_uri": "https://localhost:8080/"
    },
    "id": "oNMCg38g8xHV",
    "outputId": "cc6309d9-184e-4662-9b75-fd9302e8b20d"
   },
   "outputs": [
    {
     "name": "stdout",
     "output_type": "stream",
     "text": [
      "Model: \"sequential_2\"\n",
      "_________________________________________________________________\n",
      " Layer (type)                Output Shape              Param #   \n",
      "=================================================================\n",
      " conv2d_26 (Conv2D)          (None, 256, 256, 64)      1792      \n",
      "                                                                 \n",
      " conv2d_27 (Conv2D)          (None, 256, 256, 64)      36928     \n",
      "                                                                 \n",
      " max_pooling2d_10 (MaxPoolin  (None, 128, 128, 64)     0         \n",
      " g2D)                                                            \n",
      "                                                                 \n",
      " dropout (Dropout)           (None, 128, 128, 64)      0         \n",
      "                                                                 \n",
      " conv2d_28 (Conv2D)          (None, 128, 128, 128)     73856     \n",
      "                                                                 \n",
      " conv2d_29 (Conv2D)          (None, 128, 128, 128)     147584    \n",
      "                                                                 \n",
      " max_pooling2d_11 (MaxPoolin  (None, 64, 64, 128)      0         \n",
      " g2D)                                                            \n",
      "                                                                 \n",
      " conv2d_30 (Conv2D)          (None, 64, 64, 256)       295168    \n",
      "                                                                 \n",
      " conv2d_31 (Conv2D)          (None, 64, 64, 256)       590080    \n",
      "                                                                 \n",
      " conv2d_32 (Conv2D)          (None, 64, 64, 256)       590080    \n",
      "                                                                 \n",
      " max_pooling2d_12 (MaxPoolin  (None, 32, 32, 256)      0         \n",
      " g2D)                                                            \n",
      "                                                                 \n",
      " dropout_1 (Dropout)         (None, 32, 32, 256)       0         \n",
      "                                                                 \n",
      " conv2d_33 (Conv2D)          (None, 32, 32, 512)       1180160   \n",
      "                                                                 \n",
      " conv2d_34 (Conv2D)          (None, 32, 32, 512)       2359808   \n",
      "                                                                 \n",
      " conv2d_35 (Conv2D)          (None, 32, 32, 512)       2359808   \n",
      "                                                                 \n",
      " max_pooling2d_13 (MaxPoolin  (None, 16, 16, 512)      0         \n",
      " g2D)                                                            \n",
      "                                                                 \n",
      " dropout_2 (Dropout)         (None, 16, 16, 512)       0         \n",
      "                                                                 \n",
      " conv2d_36 (Conv2D)          (None, 16, 16, 512)       2359808   \n",
      "                                                                 \n",
      " conv2d_37 (Conv2D)          (None, 16, 16, 512)       2359808   \n",
      "                                                                 \n",
      " conv2d_38 (Conv2D)          (None, 16, 16, 512)       2359808   \n",
      "                                                                 \n",
      " max_pooling2d_14 (MaxPoolin  (None, 8, 8, 512)        0         \n",
      " g2D)                                                            \n",
      "                                                                 \n",
      " flatten_2 (Flatten)         (None, 32768)             0         \n",
      "                                                                 \n",
      " dense_6 (Dense)             (None, 4096)              134221824 \n",
      "                                                                 \n",
      " dropout_3 (Dropout)         (None, 4096)              0         \n",
      "                                                                 \n",
      " dense_7 (Dense)             (None, 4096)              16781312  \n",
      "                                                                 \n",
      " dropout_4 (Dropout)         (None, 4096)              0         \n",
      "                                                                 \n",
      " dense_8 (Dense)             (None, 1)                 4097      \n",
      "                                                                 \n",
      "=================================================================\n",
      "Total params: 165,721,921\n",
      "Trainable params: 165,721,921\n",
      "Non-trainable params: 0\n",
      "_________________________________________________________________\n"
     ]
    }
   ],
   "source": [
    "model.summary()"
   ]
  },
  {
   "cell_type": "code",
   "execution_count": 31,
   "metadata": {},
   "outputs": [],
   "source": [
    "train_generator.batch_size=4"
   ]
  },
  {
   "cell_type": "code",
   "execution_count": 27,
   "metadata": {
    "id": "3Yev5blpOvya"
   },
   "outputs": [],
   "source": [
    "# steps_per_epoch = np.ceil(train_generator.samples/train_generator.batch_size)\n",
    "# val_steps_per_epoch = np.ceil(valid_generator.samples/valid_generator.batch_size)"
   ]
  },
  {
   "cell_type": "code",
   "execution_count": 32,
   "metadata": {
    "colab": {
     "base_uri": "https://localhost:8080/"
    },
    "id": "LkSh1iwj9VJI",
    "outputId": "fcc09cd9-d32d-475f-df50-b920589c3d5f"
   },
   "outputs": [
    {
     "name": "stdout",
     "output_type": "stream",
     "text": [
      "Epoch 1/20\n",
      "175/175 [==============================] - 104s 564ms/step - loss: 47.9529 - accuracy: 0.4986 - val_loss: 0.6939 - val_accuracy: 0.5000\n",
      "Epoch 2/20\n",
      "175/175 [==============================] - 85s 487ms/step - loss: 0.6956 - accuracy: 0.4957 - val_loss: 0.6931 - val_accuracy: 0.5000\n",
      "Epoch 3/20\n",
      "175/175 [==============================] - 86s 490ms/step - loss: 0.6944 - accuracy: 0.4886 - val_loss: 0.6931 - val_accuracy: 0.5000\n",
      "Epoch 4/20\n",
      "175/175 [==============================] - 86s 493ms/step - loss: 0.6940 - accuracy: 0.4814 - val_loss: 0.6932 - val_accuracy: 0.5000\n",
      "Epoch 5/20\n",
      "175/175 [==============================] - 85s 487ms/step - loss: 0.6935 - accuracy: 0.4957 - val_loss: 0.6932 - val_accuracy: 0.5000\n",
      "Epoch 6/20\n",
      "175/175 [==============================] - 85s 486ms/step - loss: 0.6948 - accuracy: 0.5043 - val_loss: 0.6932 - val_accuracy: 0.5000\n",
      "Epoch 7/20\n",
      "175/175 [==============================] - 87s 495ms/step - loss: 0.6946 - accuracy: 0.4843 - val_loss: 0.6932 - val_accuracy: 0.5000\n",
      "Epoch 8/20\n",
      "175/175 [==============================] - 85s 486ms/step - loss: 0.6945 - accuracy: 0.5100 - val_loss: 0.6933 - val_accuracy: 0.5000\n",
      "Epoch 9/20\n",
      "175/175 [==============================] - 85s 485ms/step - loss: 0.6943 - accuracy: 0.4729 - val_loss: 0.6932 - val_accuracy: 0.5000\n",
      "Epoch 10/20\n",
      "175/175 [==============================] - 87s 495ms/step - loss: 0.6939 - accuracy: 0.4971 - val_loss: 0.6932 - val_accuracy: 0.5000\n",
      "Epoch 11/20\n",
      "175/175 [==============================] - 86s 491ms/step - loss: 0.6934 - accuracy: 0.4986 - val_loss: 0.6932 - val_accuracy: 0.5000\n",
      "Epoch 12/20\n",
      "175/175 [==============================] - 86s 491ms/step - loss: 0.6936 - accuracy: 0.4743 - val_loss: 0.6932 - val_accuracy: 0.5000\n",
      "Epoch 13/20\n",
      "175/175 [==============================] - 86s 489ms/step - loss: 0.6940 - accuracy: 0.4686 - val_loss: 0.6932 - val_accuracy: 0.5000\n",
      "Epoch 14/20\n",
      "175/175 [==============================] - 88s 501ms/step - loss: 0.6935 - accuracy: 0.5043 - val_loss: 0.6931 - val_accuracy: 0.5000\n",
      "Epoch 15/20\n",
      "175/175 [==============================] - 89s 505ms/step - loss: 0.6934 - accuracy: 0.4871 - val_loss: 0.6932 - val_accuracy: 0.5000\n",
      "Epoch 16/20\n",
      "175/175 [==============================] - 90s 514ms/step - loss: 0.6936 - accuracy: 0.4900 - val_loss: 0.6932 - val_accuracy: 0.5000\n"
     ]
    }
   ],
   "source": [
    "from tensorflow.keras.optimizers import Adam\n",
    "\n",
    "optimizer = \"Adam\"\n",
    "model.compile(\n",
    " optimizer=optimizer,\n",
    " loss=\"binary_crossentropy\",\n",
    " #For MultiClass use categorical_crossentropy\n",
    " #For Binary Class use binary_crossentropy\n",
    "\n",
    " metrics=[\"accuracy\"])\n",
    "\n",
    "callback = tf.keras.callbacks.EarlyStopping(monitor='accuracy', patience=8)\n",
    "\n",
    "history = model.fit(train_generator, validation_data=valid_generator, epochs=20, callbacks=callback).history"
   ]
  },
  {
   "cell_type": "code",
   "execution_count": 17,
   "metadata": {
    "id": "DU2TPqwCHvCO"
   },
   "outputs": [],
   "source": [
    "accuracy = history['accuracy']\n",
    "val_accuracy  = history['val_accuracy']\n",
    "\n",
    "loss = history['loss']\n",
    "val_loss = history['val_loss']"
   ]
  },
  {
   "cell_type": "code",
   "execution_count": 18,
   "metadata": {
    "colab": {
     "base_uri": "https://localhost:8080/",
     "height": 453
    },
    "id": "_ypjhdoPHu_y",
    "outputId": "5a30c1f2-0152-4eb1-8deb-33cd277a3b05"
   },
   "outputs": [
    {
     "data": {
      "image/png": "[encoded data removed]",
      "text/plain": [
       "<Figure size 1500x1000 with 2 Axes>"
      ]
     },
     "metadata": {},
     "output_type": "display_data"
    }
   ],
   "source": [
    "import matplotlib.pyplot as plt\n",
    "\n",
    "plt.figure(figsize=(15,10))\n",
    "\n",
    "plt.subplot(2, 2, 1)\n",
    "plt.plot(accuracy, label = \"Training accuracy\")\n",
    "plt.plot(val_accuracy, label=\"Validation accuracy\")\n",
    "plt.legend()\n",
    "plt.title(\"Training vs validation accuracy\")\n",
    "\n",
    "\n",
    "plt.subplot(2,2,2)\n",
    "plt.plot(loss, label = \"Training loss\")\n",
    "plt.plot(val_loss, label=\"Validation loss\")\n",
    "plt.legend()\n",
    "plt.title(\"Training vs validation loss\")\n",
    "\n",
    "plt.show()"
   ]
  },
  {
   "cell_type": "code",
   "execution_count": 19,
   "metadata": {
    "colab": {
     "base_uri": "https://localhost:8080/"
    },
    "id": "t5GoAFLXnZft",
    "outputId": "63be68d9-400d-4a41-c276-f27ea0ed972d"
   },
   "outputs": [
    {
     "ename": "ValueError",
     "evalue": "in user code:\n\n    File \"C:\\Users\\asad\\AppData\\Local\\anaconda3\\envs\\practice_notebook\\lib\\site-packages\\keras\\engine\\training.py\", line 2041, in predict_function  *\n        return step_function(self, iterator)\n    File \"C:\\Users\\asad\\AppData\\Local\\anaconda3\\envs\\practice_notebook\\lib\\site-packages\\keras\\engine\\training.py\", line 2027, in step_function  **\n        outputs = model.distribute_strategy.run(run_step, args=(data,))\n    File \"C:\\Users\\asad\\AppData\\Local\\anaconda3\\envs\\practice_notebook\\lib\\site-packages\\keras\\engine\\training.py\", line 2015, in run_step  **\n        outputs = model.predict_step(data)\n    File \"C:\\Users\\asad\\AppData\\Local\\anaconda3\\envs\\practice_notebook\\lib\\site-packages\\keras\\engine\\training.py\", line 1983, in predict_step\n        return self(x, training=False)\n    File \"C:\\Users\\asad\\AppData\\Local\\anaconda3\\envs\\practice_notebook\\lib\\site-packages\\keras\\utils\\traceback_utils.py\", line 70, in error_handler\n        raise e.with_traceback(filtered_tb) from None\n    File \"C:\\Users\\asad\\AppData\\Local\\anaconda3\\envs\\practice_notebook\\lib\\site-packages\\keras\\engine\\input_spec.py\", line 295, in assert_input_compatibility\n        raise ValueError(\n\n    ValueError: Input 0 of layer \"sequential\" is incompatible with the layer: expected shape=(None, 256, 256, 3), found shape=(None, 512, 512, 3)\n",
     "output_type": "error",
     "traceback": [
      "\u001b[1;31m---------------------------------------------------------------------------\u001b[0m",
      "\u001b[1;31mValueError\u001b[0m                                Traceback (most recent call last)",
      "Cell \u001b[1;32mIn[19], line 31\u001b[0m\n\u001b[0;32m     27\u001b[0m \t\u001b[38;5;28mprint\u001b[39m(result)\n\u001b[0;32m     30\u001b[0m \u001b[38;5;66;03m# entry point, run the example\u001b[39;00m\n\u001b[1;32m---> 31\u001b[0m \u001b[43mrun_example\u001b[49m\u001b[43m(\u001b[49m\u001b[43m)\u001b[49m\n",
      "Cell \u001b[1;32mIn[19], line 26\u001b[0m, in \u001b[0;36mrun_example\u001b[1;34m()\u001b[0m\n\u001b[0;32m     22\u001b[0m img \u001b[38;5;241m=\u001b[39m load_image(\u001b[38;5;124m'\u001b[39m\u001b[38;5;124mC:/Users/asad/practice/CatsAndDogsTTS/test/Cat/1.jpg\u001b[39m\u001b[38;5;124m'\u001b[39m)\n\u001b[0;32m     23\u001b[0m \u001b[38;5;66;03m# load model\u001b[39;00m\n\u001b[0;32m     24\u001b[0m \u001b[38;5;66;03m#model = load_model('final_model.h5')\u001b[39;00m\n\u001b[0;32m     25\u001b[0m \u001b[38;5;66;03m# predict the class\u001b[39;00m\n\u001b[1;32m---> 26\u001b[0m result \u001b[38;5;241m=\u001b[39m \u001b[43mmodel\u001b[49m\u001b[38;5;241;43m.\u001b[39;49m\u001b[43mpredict\u001b[49m\u001b[43m(\u001b[49m\u001b[43mimg\u001b[49m\u001b[43m)\u001b[49m\n\u001b[0;32m     27\u001b[0m \u001b[38;5;28mprint\u001b[39m(result)\n",
      "File \u001b[1;32m~\\AppData\\Local\\anaconda3\\envs\\practice_notebook\\lib\\site-packages\\keras\\utils\\traceback_utils.py:70\u001b[0m, in \u001b[0;36mfilter_traceback.<locals>.error_handler\u001b[1;34m(*args, **kwargs)\u001b[0m\n\u001b[0;32m     67\u001b[0m     filtered_tb \u001b[38;5;241m=\u001b[39m _process_traceback_frames(e\u001b[38;5;241m.\u001b[39m__traceback__)\n\u001b[0;32m     68\u001b[0m     \u001b[38;5;66;03m# To get the full stack trace, call:\u001b[39;00m\n\u001b[0;32m     69\u001b[0m     \u001b[38;5;66;03m# `tf.debugging.disable_traceback_filtering()`\u001b[39;00m\n\u001b[1;32m---> 70\u001b[0m     \u001b[38;5;28;01mraise\u001b[39;00m e\u001b[38;5;241m.\u001b[39mwith_traceback(filtered_tb) \u001b[38;5;28;01mfrom\u001b[39;00m \u001b[38;5;28;01mNone\u001b[39;00m\n\u001b[0;32m     71\u001b[0m \u001b[38;5;28;01mfinally\u001b[39;00m:\n\u001b[0;32m     72\u001b[0m     \u001b[38;5;28;01mdel\u001b[39;00m filtered_tb\n",
      "File \u001b[1;32m~\\AppData\\Local\\Temp\\__autograph_generated_filelem9s3wr.py:15\u001b[0m, in \u001b[0;36mouter_factory.<locals>.inner_factory.<locals>.tf__predict_function\u001b[1;34m(iterator)\u001b[0m\n\u001b[0;32m     13\u001b[0m \u001b[38;5;28;01mtry\u001b[39;00m:\n\u001b[0;32m     14\u001b[0m     do_return \u001b[38;5;241m=\u001b[39m \u001b[38;5;28;01mTrue\u001b[39;00m\n\u001b[1;32m---> 15\u001b[0m     retval_ \u001b[38;5;241m=\u001b[39m ag__\u001b[38;5;241m.\u001b[39mconverted_call(ag__\u001b[38;5;241m.\u001b[39mld(step_function), (ag__\u001b[38;5;241m.\u001b[39mld(\u001b[38;5;28mself\u001b[39m), ag__\u001b[38;5;241m.\u001b[39mld(iterator)), \u001b[38;5;28;01mNone\u001b[39;00m, fscope)\n\u001b[0;32m     16\u001b[0m \u001b[38;5;28;01mexcept\u001b[39;00m:\n\u001b[0;32m     17\u001b[0m     do_return \u001b[38;5;241m=\u001b[39m \u001b[38;5;28;01mFalse\u001b[39;00m\n",
      "\u001b[1;31mValueError\u001b[0m: in user code:\n\n    File \"C:\\Users\\asad\\AppData\\Local\\anaconda3\\envs\\practice_notebook\\lib\\site-packages\\keras\\engine\\training.py\", line 2041, in predict_function  *\n        return step_function(self, iterator)\n    File \"C:\\Users\\asad\\AppData\\Local\\anaconda3\\envs\\practice_notebook\\lib\\site-packages\\keras\\engine\\training.py\", line 2027, in step_function  **\n        outputs = model.distribute_strategy.run(run_step, args=(data,))\n    File \"C:\\Users\\asad\\AppData\\Local\\anaconda3\\envs\\practice_notebook\\lib\\site-packages\\keras\\engine\\training.py\", line 2015, in run_step  **\n        outputs = model.predict_step(data)\n    File \"C:\\Users\\asad\\AppData\\Local\\anaconda3\\envs\\practice_notebook\\lib\\site-packages\\keras\\engine\\training.py\", line 1983, in predict_step\n        return self(x, training=False)\n    File \"C:\\Users\\asad\\AppData\\Local\\anaconda3\\envs\\practice_notebook\\lib\\site-packages\\keras\\utils\\traceback_utils.py\", line 70, in error_handler\n        raise e.with_traceback(filtered_tb) from None\n    File \"C:\\Users\\asad\\AppData\\Local\\anaconda3\\envs\\practice_notebook\\lib\\site-packages\\keras\\engine\\input_spec.py\", line 295, in assert_input_compatibility\n        raise ValueError(\n\n    ValueError: Input 0 of layer \"sequential\" is incompatible with the layer: expected shape=(None, 256, 256, 3), found shape=(None, 512, 512, 3)\n"
     ]
    }
   ],
   "source": [
    "# make a prediction for a new image.\n",
    "from tensorflow.keras.utils import load_img\n",
    "from tensorflow.keras.preprocessing.image import img_to_array\n",
    "from keras.models import load_model\n",
    "\n",
    "# load and prepare the image\n",
    "def load_image(filename):\n",
    "\t# load the image\n",
    "\timg = load_img(filename, target_size=(512,512))\n",
    "\t# convert to array\n",
    "\timg = img_to_array(img)\n",
    "\t# reshape into a single sample with 3 channels\n",
    "\timg = img.reshape(1, 512, 512, 3)\n",
    "\t# center pixel data\n",
    "\timg = img.astype('float32')\n",
    "\t#img = img - [123.68, 116.779, 103.939]\n",
    "\treturn img\n",
    "\n",
    "# load an image and predict the class\n",
    "def run_example():\n",
    "\t# load the image\n",
    "\timg = load_image('C:/Users/asad/practice/CatsAndDogsTTS/test/Cat/1.jpg')\n",
    "\t# load model\n",
    "\t#model = load_model('final_model.h5')\n",
    "\t# predict the class\n",
    "\tresult = model.predict(img)\n",
    "\tprint(result)\n",
    "\n",
    "\n",
    "# entry point, run the example\n",
    "run_example()"
   ]
  },
  {
   "cell_type": "code",
   "execution_count": 40,
   "metadata": {
    "id": "vRhB3q6NpTn3"
   },
   "outputs": [],
   "source": [
    "model.save(\"./CatsAndDogs.h5\")"
   ]
  },
  {
   "cell_type": "code",
   "execution_count": null,
   "metadata": {},
   "outputs": [],
   "source": []
  },
  {
   "cell_type": "code",
   "execution_count": null,
   "metadata": {},
   "outputs": [],
   "source": []
  },
  {
   "cell_type": "code",
   "execution_count": null,
   "metadata": {},
   "outputs": [],
   "source": []
  },
  {
   "cell_type": "code",
   "execution_count": null,
   "metadata": {},
   "outputs": [],
   "source": []
  },
  {
   "cell_type": "code",
   "execution_count": null,
   "metadata": {},
   "outputs": [],
   "source": []
  }
 ],
 "metadata": {
  "accelerator": "GPU",
  "colab": {
   "gpuType": "T4",
   "provenance": []
  },
  "kernelspec": {
   "display_name": "Python 3 (ipykernel)",
   "language": "python",
   "name": "python3"
  },
  "language_info": {
   "codemirror_mode": {
    "name": "ipython",
    "version": 3
   },
   "file_extension": ".py",
   "mimetype": "text/x-python",
   "name": "python",
   "nbconvert_exporter": "python",
   "pygments_lexer": "ipython3",
   "version": "3.9.19"
  }
 },
 "nbformat": 4,
 "nbformat_minor": 4
}
